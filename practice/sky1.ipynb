{
 "cells": [
  {
   "cell_type": "code",
   "execution_count": 5,
   "metadata": {},
   "outputs": [
    {
     "name": "stdout",
     "output_type": "stream",
     "text": [
      "5\n",
      "120 24 6 2 1 "
     ]
    }
   ],
   "source": [
    "num = int(input())\n",
    "\n",
    "result = 1\n",
    "for i in range(num, 0, -1):\n",
    "    for j in range(1, i + 1):\n",
    "        result *= j\n",
    "    print(result, end = ' ')\n",
    "    result = 1"
   ]
  },
  {
   "cell_type": "code",
   "execution_count": 2,
   "metadata": {},
   "outputs": [
    {
     "name": "stdout",
     "output_type": "stream",
     "text": [
      "5\n",
      "120 24 6 2 1 "
     ]
    }
   ],
   "source": [
    "import math\n",
    "\n",
    "num = int(input())\n",
    "\n",
    "for i in range(num, 0, -1):\n",
    "    print(math.factorial(i), end = ' ')"
   ]
  },
  {
   "cell_type": "code",
   "execution_count": 3,
   "metadata": {},
   "outputs": [
    {
     "name": "stdout",
     "output_type": "stream",
     "text": [
      "5\n",
      "120 24 6 2 1 "
     ]
    }
   ],
   "source": [
    "num = int(input())\n",
    "\n",
    "result = 1\n",
    "while num > 0:\n",
    "    n = 1\n",
    "    while n < num+1:\n",
    "        result *= n\n",
    "        n += 1\n",
    "    print(result, end = ' ')\n",
    "    result = 1\n",
    "    \n",
    "    num -= 1"
   ]
  },
  {
   "cell_type": "code",
   "execution_count": 15,
   "metadata": {},
   "outputs": [
    {
     "name": "stdout",
     "output_type": "stream",
     "text": [
      "8 5\n",
      "8 - 7 + 6 - 5 = 2\n"
     ]
    }
   ],
   "source": [
    "n, m = list(map(int, input().split()))\n",
    "idx = 0\n",
    "result = 0\n",
    "\n",
    "def solution(i):\n",
    "    global idx, result\n",
    "\n",
    "    if idx % 2:\n",
    "        result -= i\n",
    "        if i != m: print(i, end = ' + ')\n",
    "\n",
    "    else:\n",
    "        result += i\n",
    "        if i != m: print(i, end = ' - ')\n",
    "\n",
    "    if i == m:\n",
    "        print(m, \"=\", result)\n",
    "    idx += 1\n",
    "\n",
    "if n > m:\n",
    "    for i in range(n, m - 1, -1):\n",
    "        solution(i)\n",
    "        \n",
    "elif n == m:\n",
    "    print(\"입력 에러입니다\")\n",
    "    \n",
    "else:\n",
    "    for i in range(n, m + 1):\n",
    "        solution(i)\n"
   ]
  },
  {
   "cell_type": "code",
   "execution_count": null,
   "metadata": {},
   "outputs": [],
   "source": [
    "n1, n2 # 입력\n",
    "count=0 # 홀짝\n",
    "result=0 # 결과\n",
    "\n",
    "if n1, n2가 같은 경우:\n",
    "    \"에러\"\n",
    "elif n1 < n2 인 경우:\n",
    "    for i in n1 ~ n2+1:\n",
    "        if count를 2로 나눈 나머지가 0:\n",
    "            result - i\n",
    "            if i != n2: print(i, \"+\", end=' ')\n",
    "        else:\n",
    "            result + i\n",
    "            if i != n2: print(i, \"-\", end=' ')\n",
    "        \n",
    "        if i == n2:\n",
    "            print(i, \"=\", result)\n",
    "            \n",
    "        count + 1\n",
    "else:\n",
    "    for i in n1 ~ n2-1까지 -1씩 감소:\n",
    "        "
   ]
  },
  {
   "cell_type": "code",
   "execution_count": 20,
   "metadata": {},
   "outputs": [
    {
     "name": "stdout",
     "output_type": "stream",
     "text": [
      "5 4\n",
      "5 - "
     ]
    }
   ],
   "source": [
    "n, m = list(map(int, input().split()))\n",
    "idx = 0\n",
    "result = 0\n",
    "\n",
    "def solution(i):\n",
    "    global idx, result\n",
    "\n",
    "    if idx % 2:\n",
    "        result -= i\n",
    "        if i != m: print(i, end = ' + ')\n",
    "\n",
    "    else:\n",
    "        result += i\n",
    "        if i != m: print(i, end = ' - ')\n",
    "\n",
    "    if i == m:\n",
    "        print(m, \"=\", result)\n",
    "    idx += 1\n",
    "\n",
    "itr = 1 if n < m else -1\n",
    "for i in range(n, m, itr):\n",
    "    solution(i)\n",
    "        \n",
    "if n == m:\n",
    "    print(\"입력 에러입니다\")\n",
    "    "
   ]
  },
  {
   "cell_type": "code",
   "execution_count": 76,
   "metadata": {},
   "outputs": [
    {
     "name": "stdout",
     "output_type": "stream",
     "text": [
      "8 5\n",
      "8 - 7 + 6 - 5 = 2\n"
     ]
    }
   ],
   "source": [
    "n, m = list(map(int, input().split()))\n",
    "idx, result = 0, 0\n",
    "itr = 1 if n < m else -1 \n",
    "\n",
    "if n == m:\n",
    "    print(\"입력 에러입니다\")\n",
    "else:\n",
    "    for i in range(n, m + itr, itr):\n",
    "        mult = -1 if idx % 2 else 1\n",
    "        result += mult * i\n",
    "\n",
    "        if i == m:\n",
    "            print(m, \"=\", result)\n",
    "        else:\n",
    "            if mult == 1:\n",
    "                print(i, end = ' - ')\n",
    "            else:\n",
    "                print(i, end = ' + ')\n",
    "\n",
    "        idx += 1\n"
   ]
  },
  {
   "cell_type": "code",
   "execution_count": 9,
   "metadata": {},
   "outputs": [
    {
     "name": "stdout",
     "output_type": "stream",
     "text": [
      "5 8\n",
      "5 -\n",
      "None + 6\n",
      "None + 7\n",
      "None + 8\n",
      "5 -\n",
      "None + 6\n",
      "None + 7\n",
      "None + 8\n",
      "5 -\n",
      "None + 6\n",
      "None + 7\n",
      "None + 8\n",
      "5 -\n",
      "None + 6\n",
      "None + 7\n",
      "None + 8\n"
     ]
    }
   ],
   "source": [
    "n1, n2 = list(map(int, input().split()))\n",
    "\n",
    "count = 0\n",
    "n = 1\n",
    "if n1 and n2 < 0:\n",
    "    print(\"에러\")\n",
    "elif n1 == n2:\n",
    "    print(\"에러\")\n",
    "for i in range(n1, n2 +1):\n",
    "    n = print(n1, \"-\")\n",
    "    count = count + 1\n",
    "    for j in range(n1+1, n2+1):\n",
    "        n=print(n, \"+\", j)\n",
    "        count = count + 1"
   ]
  },
  {
   "cell_type": "code",
   "execution_count": 12,
   "metadata": {},
   "outputs": [
    {
     "name": "stdout",
     "output_type": "stream",
     "text": [
      "0\n",
      "+\n"
     ]
    }
   ],
   "source": [
    "num = int(input())\n",
    "\n",
    "if num % 2:\n",
    "    print(\"-\")\n",
    "else:\n",
    "    print(\"+\")"
   ]
  }
 ],
 "metadata": {
  "kernelspec": {
   "display_name": "Python 3",
   "language": "python",
   "name": "python3"
  },
  "language_info": {
   "codemirror_mode": {
    "name": "ipython",
    "version": 3
   },
   "file_extension": ".py",
   "mimetype": "text/x-python",
   "name": "python",
   "nbconvert_exporter": "python",
   "pygments_lexer": "ipython3",
   "version": "3.6.10"
  }
 },
 "nbformat": 4,
 "nbformat_minor": 4
}
