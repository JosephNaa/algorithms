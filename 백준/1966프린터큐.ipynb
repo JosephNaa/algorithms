{
 "cells": [
  {
   "cell_type": "code",
   "execution_count": null,
   "metadata": {},
   "outputs": [],
   "source": [
    "from collections import deque\n",
    "\n",
    "test_case = int(input())\n",
    "\n",
    "for _ in range(test_case):\n",
    "    n, m = list(map(int, input().split()))\n",
    "    q = deque(map(int, input().split()))\n",
    "    idx = [0 for _ in range(n)]\n",
    "    idx[m] = 1\n",
    "    cnt = 0\n",
    "    \n",
    "    while 1:\n",
    "        if q[0] == max(q):\n",
    "            if idx[0] == 1:\n",
    "                break\n",
    "            else:\n",
    "                q.popleft()\n",
    "                idx.pop(0)\n",
    "                cnt += 1\n",
    "        else:\n",
    "            q.append(q.popleft())\n",
    "            idx.append(idx.pop(0))\n",
    "            \n",
    "    print(cnt+1)\n",
    "    \n",
    "    "
   ]
  }
 ],
 "metadata": {
  "kernelspec": {
   "display_name": "Python 3",
   "language": "python",
   "name": "python3"
  },
  "language_info": {
   "codemirror_mode": {
    "name": "ipython",
    "version": 3
   },
   "file_extension": ".py",
   "mimetype": "text/x-python",
   "name": "python",
   "nbconvert_exporter": "python",
   "pygments_lexer": "ipython3",
   "version": "3.6.10"
  }
 },
 "nbformat": 4,
 "nbformat_minor": 4
}
