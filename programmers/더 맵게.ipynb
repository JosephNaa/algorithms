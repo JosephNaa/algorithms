{
 "cells": [
  {
   "cell_type": "code",
   "execution_count": 31,
   "metadata": {},
   "outputs": [],
   "source": [
    "import heapq\n",
    "\n",
    "def solution(scoville, K):\n",
    "    answer = 0\n",
    "    \n",
    "    while scoville[0] <= K:\n",
    "        if len(scoville) <= 1:\n",
    "            break\n",
    "            \n",
    "        min1 = heapq.heappop(scoville)\n",
    "        min2 = heapq.heappop(scoville)\n",
    "        if min1 >= K:\n",
    "            break\n",
    "\n",
    "        heapq.heappush(scoville, min1 + (min2*2))\n",
    "        \n",
    "        answer += 1\n",
    "        \n",
    "    for s in scoville:\n",
    "        if s < K:\n",
    "            return -1\n",
    "    \n",
    "    return answer"
   ]
  },
  {
   "cell_type": "code",
   "execution_count": 32,
   "metadata": {},
   "outputs": [
    {
     "name": "stdout",
     "output_type": "stream",
     "text": [
      "0 0\n",
      "0 0\n"
     ]
    }
   ],
   "source": [
    "print(solution([0, 0, 3, 9, 10, 12], 0), 0)\n",
    "print(solution([0, 0], 0), 0)"
   ]
  },
  {
   "cell_type": "code",
   "execution_count": 39,
   "metadata": {},
   "outputs": [
    {
     "name": "stdout",
     "output_type": "stream",
     "text": [
      "2 2\n"
     ]
    }
   ],
   "source": [
    "scoville = [1,2,3] \n",
    "K = 11\n",
    "output = 2\n",
    "print(solution(scoville, K), output)"
   ]
  },
  {
   "cell_type": "code",
   "execution_count": 35,
   "metadata": {},
   "outputs": [
    {
     "data": {
      "text/plain": [
       "2"
      ]
     },
     "execution_count": 35,
     "metadata": {},
     "output_type": "execute_result"
    }
   ],
   "source": [
    "scoville = [1, 2, 3, 9, 10, 12]\n",
    "K = 7\n",
    "\n",
    "solution(scoville, K)"
   ]
  },
  {
   "cell_type": "code",
   "execution_count": null,
   "metadata": {},
   "outputs": [],
   "source": [
    "print(solution([1, 1, 1], 4), 2)\n",
    "print(solution([10, 10, 10, 10, 10], 100), 4)\n",
    "print(solution([1, 2, 3, 9, 10, 12], 7), 2)\n",
    "print(solution([0, 2, 3, 9, 10, 12], 7), 2)\n",
    "print(solution([0, 0, 3, 9, 10, 12], 7), 3)\n",
    "print(solution([0, 0, 0, 0], 7), -1)\n",
    "print(solution([0, 0, 3, 9, 10, 12], 7000), -1)\n",
    "print(solution([0, 0, 3, 9, 10, 12], 1), 2)\n",
    "print(solution([0, 0], 1), -1)\n",
    "print(solution([1, 0], 1), 1)"
   ]
  }
 ],
 "metadata": {
  "kernelspec": {
   "display_name": "Python 3",
   "language": "python",
   "name": "python3"
  },
  "language_info": {
   "codemirror_mode": {
    "name": "ipython",
    "version": 3
   },
   "file_extension": ".py",
   "mimetype": "text/x-python",
   "name": "python",
   "nbconvert_exporter": "python",
   "pygments_lexer": "ipython3",
   "version": "3.6.10"
  }
 },
 "nbformat": 4,
 "nbformat_minor": 4
}
