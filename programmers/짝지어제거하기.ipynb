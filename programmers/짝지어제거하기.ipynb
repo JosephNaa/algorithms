{
 "cells": [
  {
   "cell_type": "code",
   "execution_count": 1,
   "metadata": {},
   "outputs": [],
   "source": [
    "def solution(s):\n",
    "    answer = -1\n",
    "\n",
    "    st = []\n",
    "    \n",
    "    for i in s:\n",
    "        if len(st) == 0:\n",
    "            st.append(i)\n",
    "        elif st[-1] == i:\n",
    "            st.pop()\n",
    "        else:\n",
    "            st.append(i)\n",
    "            \n",
    "    if len(st) == 0: answer = 1\n",
    "    else: answer = 0\n",
    "\n",
    "    return answer"
   ]
  }
 ],
 "metadata": {
  "kernelspec": {
   "display_name": "Python 3",
   "language": "python",
   "name": "python3"
  },
  "language_info": {
   "codemirror_mode": {
    "name": "ipython",
    "version": 3
   },
   "file_extension": ".py",
   "mimetype": "text/x-python",
   "name": "python",
   "nbconvert_exporter": "python",
   "pygments_lexer": "ipython3",
   "version": "3.6.10"
  }
 },
 "nbformat": 4,
 "nbformat_minor": 4
}
