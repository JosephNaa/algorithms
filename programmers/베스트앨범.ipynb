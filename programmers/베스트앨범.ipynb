{
 "cells": [
  {
   "cell_type": "code",
   "execution_count": 172,
   "metadata": {},
   "outputs": [],
   "source": [
    "from collections import Counter\n",
    "\n",
    "def solution(genres, plays):\n",
    "    answer = []\n",
    "    play_count = {}\n",
    "    play_list = {}\n",
    "    play_idx = {}\n",
    "    \n",
    "    for g in range(len(genres)):\n",
    "        if genres[g] in play_count:\n",
    "            play_list[genres[g]].append(plays[g])\n",
    "            play_count[genres[g]] += plays[g]\n",
    "        else:\n",
    "            play_list[genres[g]] = [plays[g]]\n",
    "            play_count[genres[g]] = plays[g]\n",
    "        \n",
    "        if plays[g] in play_idx:\n",
    "            play_idx[plays[g]].append(g)\n",
    "        else:\n",
    "            play_idx[plays[g]] = [g]\n",
    "\n",
    "\n",
    "            \n",
    "    play_count = sorted(play_count.items(), reverse=True, key=lambda item: item[1])\n",
    "    \n",
    "    print(play_count)\n",
    "    print(play_list)\n",
    "    print(play_idx)\n",
    "    \n",
    "\n",
    "    for g in play_count:\n",
    "        print(g)\n",
    "        play_list[g[0]] = sorted(play_list[g[0]], reverse=True)[:2]\n",
    "        print(play_list[g[0]])\n",
    "        print(len(play_list[g[0]]))\n",
    "        \n",
    "        for i in range(len(play_list[g[0]])):\n",
    "            print(play_idx[play_list[g[0]][i]])\n",
    "            print(len(play_idx[play_list[g[0]][i]]))\n",
    "\n",
    "            if len(play_idx[play_list[g[0]][i]]) > 1:\n",
    "                answer.append(play_idx[play_list[g[0]][i]].pop(0))\n",
    "                answer.append(play_idx[play_list[g[0]][i]].pop(0))\n",
    "                break\n",
    "                \n",
    "            else:\n",
    "                answer.append(play_idx[play_list[g[0]][i]].pop(0))\n",
    "            print(\"answer\", answer)\n",
    "\n",
    "            \n",
    "    print(\"결과:\", answer)\n",
    "    return answer\n",
    "\n"
   ]
  },
  {
   "cell_type": "code",
   "execution_count": 173,
   "metadata": {},
   "outputs": [
    {
     "name": "stdout",
     "output_type": "stream",
     "text": [
      "[('classic', 1550), ('pop', 1200)]\n",
      "{'classic': [400, 150, 500, 500], 'pop': [600, 600]}\n",
      "{400: [0], 600: [1, 3], 150: [2], 500: [4, 5]}\n",
      "('classic', 1550)\n",
      "[500, 500]\n",
      "2\n",
      "[4, 5]\n",
      "2\n",
      "('pop', 1200)\n",
      "[600, 600]\n",
      "2\n",
      "[1, 3]\n",
      "2\n",
      "결과: [4, 5, 1, 3]\n",
      "실제: [4, 5, 1, 3]\n"
     ]
    }
   ],
   "source": [
    "genres = [\"classic\", \"pop\", \"classic\", \"pop\", \"classic\", \"classic\"]\n",
    "plays = [400, 600, 150, 600, 500, 500]\n",
    "solution(genres, plays)\n",
    "print(\"실제:\", [4,5,1,3])"
   ]
  },
  {
   "cell_type": "code",
   "execution_count": 174,
   "metadata": {},
   "outputs": [
    {
     "name": "stdout",
     "output_type": "stream",
     "text": [
      "[('pop', 3100), ('classic', 1450)]\n",
      "{'classic': [500, 150, 800], 'pop': [600, 2500]}\n",
      "{500: [0], 600: [1], 150: [2], 800: [3], 2500: [4]}\n",
      "('pop', 3100)\n",
      "[2500, 600]\n",
      "2\n",
      "[4]\n",
      "1\n",
      "answer [4]\n",
      "[1]\n",
      "1\n",
      "answer [4, 1]\n",
      "('classic', 1450)\n",
      "[800, 500]\n",
      "2\n",
      "[3]\n",
      "1\n",
      "answer [4, 1, 3]\n",
      "[0]\n",
      "1\n",
      "answer [4, 1, 3, 0]\n",
      "결과: [4, 1, 3, 0]\n"
     ]
    },
    {
     "data": {
      "text/plain": [
       "[4, 1, 3, 0]"
      ]
     },
     "execution_count": 174,
     "metadata": {},
     "output_type": "execute_result"
    }
   ],
   "source": [
    "genres = [\"classic\", \"pop\", \"classic\", \"classic\", \"pop\"]\n",
    "plays = [500, 600, 150, 800, 2500]\n",
    "solution(genres, plays)"
   ]
  },
  {
   "cell_type": "code",
   "execution_count": 109,
   "metadata": {},
   "outputs": [],
   "source": [
    "from collections import Counter\n",
    "\n",
    "def solution(genres, plays):\n",
    "    answer = []\n",
    "    play_count = {}\n",
    "    play_list = {}\n",
    "    play_weights = {}\n",
    "    \n",
    "    for g in range(len(genres)):\n",
    "        if genres[g] in play_count:\n",
    "            play_weights[plays[g]] = g\n",
    "            play_list[genres[g]].append(plays[g])\n",
    "            play_count[genres[g]] += plays[g]\n",
    "        else:\n",
    "            play_weights[plays[g]] = g\n",
    "            play_list[genres[g]] = [plays[g]]\n",
    "            play_count[genres[g]] = plays[g]\n",
    "            \n",
    "    play_count = sorted(play_count.items(), reverse=True, key=lambda item: item[1])\n",
    "\n",
    "    for g in play_count:\n",
    "        play_list[g[0]] = sorted(play_list[g[0]], reverse=True)[:2]\n",
    "        \n",
    "        for i in range(len(play_list[g[0]])):\n",
    "            print(play_weights[play_list[g[0]][0]])\n",
    "            answer.append(play_weights[play_list[g[0]].pop(0)])\n",
    "            \n",
    "    print(answer)\n",
    "    return answer"
   ]
  },
  {
   "cell_type": "code",
   "execution_count": null,
   "metadata": {},
   "outputs": [],
   "source": []
  }
 ],
 "metadata": {
  "kernelspec": {
   "display_name": "Python 3",
   "language": "python",
   "name": "python3"
  },
  "language_info": {
   "codemirror_mode": {
    "name": "ipython",
    "version": 3
   },
   "file_extension": ".py",
   "mimetype": "text/x-python",
   "name": "python",
   "nbconvert_exporter": "python",
   "pygments_lexer": "ipython3",
   "version": "3.6.10"
  }
 },
 "nbformat": 4,
 "nbformat_minor": 4
}
