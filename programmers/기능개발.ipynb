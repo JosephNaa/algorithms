{
 "cells": [
  {
   "cell_type": "code",
   "execution_count": 18,
   "metadata": {},
   "outputs": [
    {
     "name": "stdout",
     "output_type": "stream",
     "text": [
      "[99, 98, 97, 96]\n",
      "[103, 101, 99, 97]\n",
      "2\n",
      "[2]\n",
      "[101, 98]\n",
      "1\n",
      "[2, 1]\n",
      "[99]\n",
      "[100]\n",
      "1\n",
      "[2, 1, 1]\n"
     ]
    }
   ],
   "source": [
    "def solution(progresses, speeds):\n",
    "    answer = []\n",
    "    count = 0\n",
    "    \n",
    "    while(progresses != []):\n",
    "        progresses = [progresses + speeds for progresses, speeds in zip(progresses, speeds)]\n",
    "        print(progresses)\n",
    "        if(progresses[0] >= 100):\n",
    "            for i in range(len(progresses)):\n",
    "                if(progresses[i] < 100): break\n",
    "                else: count += 1\n",
    "            answer.append(count)\n",
    "            print(count)\n",
    "            print(answer)\n",
    "            for i in range(0, count):\n",
    "                del progresses[0]\n",
    "                del speeds[0]\n",
    "            count = 0\n",
    "\n",
    "    return answer\n",
    "\n",
    "def main():\n",
    "    progresses = [95, 95, 95, 95]\n",
    "    speeds = [4, 3, 2, 1]\n",
    "    \n",
    "    solution(progresses, speeds)\n",
    "    \n",
    "main()"
   ]
  },
  {
   "cell_type": "code",
   "execution_count": null,
   "metadata": {},
   "outputs": [],
   "source": [
    "if(progresses[0] > 100):\n",
    "for i in range(progresses.size()):\n",
    "                if(i >= 100): count += 1\n",
    "                else: break\n",
    "            answer += count\n",
    "            progresses = progresse[count:]\n",
    "            count = 0"
   ]
  },
  {
   "cell_type": "code",
   "execution_count": null,
   "metadata": {},
   "outputs": [],
   "source": []
  }
 ],
 "metadata": {
  "kernelspec": {
   "display_name": "Python 3",
   "language": "python",
   "name": "python3"
  },
  "language_info": {
   "codemirror_mode": {
    "name": "ipython",
    "version": 3
   },
   "file_extension": ".py",
   "mimetype": "text/x-python",
   "name": "python",
   "nbconvert_exporter": "python",
   "pygments_lexer": "ipython3",
   "version": "3.6.10"
  }
 },
 "nbformat": 4,
 "nbformat_minor": 4
}
