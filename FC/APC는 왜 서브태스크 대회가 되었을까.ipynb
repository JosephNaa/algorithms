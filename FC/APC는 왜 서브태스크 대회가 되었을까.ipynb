{
 "cells": [
  {
   "cell_type": "code",
   "execution_count": 7,
   "metadata": {},
   "outputs": [
    {
     "name": "stdout",
     "output_type": "stream",
     "text": [
      "4 8 4\n",
      "1 8\n",
      "4 5\n",
      "6 20\n",
      "9 12\n",
      "380\n"
     ]
    }
   ],
   "source": [
    "n, l, k = map(int, input().split())\n",
    "\n",
    "easy, hard = 0, 0\n",
    "\n",
    "for i in range(n):\n",
    "    sub1, sub2 = map(int, input().split())\n",
    "    \n",
    "    if sub2 <= l:\n",
    "        hard += 1\n",
    "    elif sub1 <= l:\n",
    "        easy += 1\n",
    "        \n",
    "ans = min(hard, k) * 140\n",
    "\n",
    "if hard < k:\n",
    "    ans += min(k-hard, easy) * 100\n",
    "    \n",
    "print(ans)"
   ]
  }
 ],
 "metadata": {
  "kernelspec": {
   "display_name": "Python 3",
   "language": "python",
   "name": "python3"
  },
  "language_info": {
   "codemirror_mode": {
    "name": "ipython",
    "version": 3
   },
   "file_extension": ".py",
   "mimetype": "text/x-python",
   "name": "python",
   "nbconvert_exporter": "python",
   "pygments_lexer": "ipython3",
   "version": "3.6.10"
  }
 },
 "nbformat": 4,
 "nbformat_minor": 4
}
